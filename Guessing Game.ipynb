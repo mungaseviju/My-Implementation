{
 "cells": [
  {
   "cell_type": "code",
   "execution_count": null,
   "metadata": {},
   "outputs": [],
   "source": [
    "c_guess =  16\n",
    "u_guess = 16\n",
    "if c_guess == u_guess:\n",
    " print ('your guess is correct')\n",
    "else:\n",
    "    print ('your guess is not correct')\n"
   ]
  },
  {
   "cell_type": "code",
   "execution_count": null,
   "metadata": {},
   "outputs": [],
   "source": [
    "c_guess =  17\n",
    "u_guess = 17\n",
    "if c_guess == u_guess:\n",
    " print ('your guess is correct')\n",
    "else:\n",
    "    print ('your guess is not correct')\n"
   ]
  },
  {
   "cell_type": "code",
   "execution_count": null,
   "metadata": {},
   "outputs": [],
   "source": [
    "import random\n",
    "c_guess = random.randint(1,20)\n",
    "\n",
    "u_guess = 16\n",
    "if c_guess == u_guess:\n",
    "    print ('you guess correctly')\n",
    "else:\n",
    "    print ('your guess is not correct')\n"
   ]
  },
  {
   "cell_type": "code",
   "execution_count": null,
   "metadata": {},
   "outputs": [],
   "source": [
    "import random\n",
    "c_guess = random.randint (1,20)\n",
    "for chance in range (1,4):\n",
    "    u_guess = int (input (\"Enter your guess\"))\n",
    "    if u_guess not in range (1,21):\n",
    "        print (\"your number is more than 20\")\n",
    "    if c_guess == u_guess:\n",
    "     print (f'your guess is correct in {chance} guess')\n",
    "     break\n",
    "    else:\n",
    "        print ('your guess is not correct')\n",
    "        if chance == 3:\n",
    "            print (\"Computer was thinking of a number\", c_guess)\n",
    "\n"
   ]
  },
  {
   "cell_type": "code",
   "execution_count": null,
   "metadata": {},
   "outputs": [],
   "source": [
    "import random\n",
    "c_guess = random.randint (1,20)\n",
    "play_again = True\n",
    "while play_again:\n",
    "    for chance in range (1,4):\n",
    "        u_guess = int (input (\"Enter your guess\"))\n",
    "        if u_guess not in range (1,21):\n",
    "            print (\"your number is more than 20\")\n",
    "        if c_guess == u_guess:\n",
    "            print(f'your guess is correct in {chance} guess')\n",
    "            break\n",
    "        else:\n",
    "            print ('your guess is not correct')\n",
    "            if chance == 3:\n",
    "                print (\"Computer was thinking of a number\", c_guess)\n",
    "    choice = input ('Do you want to play again [YES/NO]: ')\n",
    "    if choice != 'Y':\n",
    "        play_again = False\n",
    "\n"
   ]
  },
  {
   "cell_type": "code",
   "execution_count": null,
   "metadata": {},
   "outputs": [],
   "source": []
  },
  {
   "cell_type": "code",
   "execution_count": null,
   "metadata": {},
   "outputs": [],
   "source": [
    "import random\n",
    "play_again = True\n",
    "balance = 0\n",
    "if balance < 5:\n",
    "    amount = int (input (\"recharge with minimum 5 rs / game or more\"))\n",
    "    balance = balance + amount\n",
    "if balance >= 5:\n",
    "    \n",
    "    while play_again:\n",
    "        balance = balance - 5\n",
    "        print (\"5 rupees deducted from your total balance and balance is\",balance)\n",
    "        c_guess = random.randint (1,20)\n",
    "        for chance in range (1,4):\n",
    "            u_guess = int (input (\"Enter your guess\"))\n",
    "            if u_guess not in range (1,21):\n",
    "                print (\"your number is more than 20\")\n",
    "            if c_guess == u_guess:\n",
    "                 print (f'your guess is correct in {chance} guess')\n",
    "                break\n",
    "            else:\n",
    "                print ('your guess is not correct')\n",
    "                if chance == 3:\n",
    "                    print (\"Computer was thinking of a number\", c_guess)\n",
    "                    chance =chance + 1\n",
    "                if u_guess < c_guess and chance < 3:\n",
    "                    print (\"I am thinking of greater number\")\n",
    "                elif u_guess > c_guess and chance < 3:\n",
    "                    print (\"I am thinking of smaller number\")\n",
    "        if chance == 1:\n",
    "            print ('you have won 100 Rs')\n",
    "            balance = balance + 100\n",
    "        elif chance == 2:\n",
    "            print (\"you have won 75 rupees\")\n",
    "            balance = balance + 75\n",
    "        elif chance == 3:\n",
    "            print ('you have won 50 rupees')\n",
    "            balance = balance =50\n",
    "\n",
    "        choice = input ('Do you want to play again [YES/NO]: ')\n",
    "        if choice != 'Y':\n",
    "            play_again = False\n",
    "            \n",
    "\n"
   ]
  },
  {
   "cell_type": "code",
   "execution_count": null,
   "metadata": {},
   "outputs": [
    {
     "name": "stdout",
     "output_type": "stream",
     "text": [
      "Enter Your name : a\n",
      "Welcome a\n",
      "recharge with minimum 5 rs / game or more3\n",
      "Do you want to play again [yes/no]: yes\n",
      "recharge with minimum 5 rs / game or more2\n",
      "Do you want to play again [yes/no]: yes\n",
      "Rs. 5 deducted and balance is 0\n"
     ]
    }
   ],
   "source": [
    "def welcome():\n",
    "    name = input('Enter Your name : ')\n",
    "    print('Welcome',name)\n",
    "\n",
    "def gen_guess():\n",
    "    import random\n",
    "    c_guess = random.randint (1,20)\n",
    "    return c_guess\n",
    "\n",
    "def validate (c_guess,u_guess):\n",
    "    if c_guess == u_guess:\n",
    "        return True\n",
    "    else:\n",
    "        return False\n",
    "    \n",
    "def bal():\n",
    "    global balance\n",
    "    if balance < 5:\n",
    "        amount = int (input (\"recharge with minimum 5 rs / game or more\"))\n",
    "        balance = balance + amount\n",
    "        return True\n",
    "    elif balance >= 5:\n",
    "        return True\n",
    "    else:\n",
    "        return False\n",
    "    \n",
    "def reward(chance):\n",
    "    global balance\n",
    "    if chance == 1:\n",
    "        print ('you have won 100 Rs')\n",
    "        balance = balance + 100\n",
    "    elif chance == 2:\n",
    "        print (\"you have won 75 rupees\")\n",
    "        balance = balance + 75\n",
    "    elif chance == 3:\n",
    "        print ('you have won 50 rupees')\n",
    "        balance = balance + 50\n",
    "\n",
    "def hint(c_guess, u_guess):\n",
    "    if chance < 3:\n",
    "        if u_guess < c_guess:\n",
    "            print (\"I am thinking of greater number\")\n",
    "        elif u_guess > c_guess:\n",
    "            print (\"I am thinking of smaller number\")\n",
    "    else:\n",
    "        print('I was thinking of', c_guess)\n",
    "        \n",
    "def u_choice():\n",
    "    choice = input ('Do you want to play again [yes/no]: ')\n",
    "    if choice == 'yes':\n",
    "        return True\n",
    "    else:\n",
    "        return False\n",
    "\n",
    "    \n",
    "if __name__ == '__main__':\n",
    "    balance = 0\n",
    "    play_again = True\n",
    "    welcome()\n",
    "    while play_again:\n",
    "        c_guess = gen_guess()\n",
    "        if balance > 4:\n",
    "            balance -= 5\n",
    "            print('Rs. 5 deducted and balance is',balance)\n",
    "\n",
    "            for chance in range (1,4):\n",
    "                u_guess = int(input('Enter Your Guess'))\n",
    "                if validate(c_guess,u_guess):\n",
    "                    reward(chance)\n",
    "                    break\n",
    "                else:\n",
    "                    hint(c_guess,u_guess)\n",
    "        else:\n",
    "            bal()\n",
    "        play_again = u_choice()\n",
    "        \n",
    "\n",
    "            \n",
    "    "
   ]
  },
  {
   "cell_type": "code",
   "execution_count": null,
   "metadata": {},
   "outputs": [],
   "source": [
    "balance"
   ]
  },
  {
   "cell_type": "code",
   "execution_count": null,
   "metadata": {},
   "outputs": [],
   "source": [
    "from math import pi\n",
    "print(\"The value of pi is\", pi)"
   ]
  },
  {
   "cell_type": "code",
   "execution_count": null,
   "metadata": {},
   "outputs": [],
   "source": [
    "import example\n",
    "example.add(4,5.5)"
   ]
  },
  {
   "cell_type": "code",
   "execution_count": null,
   "metadata": {},
   "outputs": [],
   "source": []
  }
 ],
 "metadata": {
  "kernelspec": {
   "display_name": "Python 3",
   "language": "python",
   "name": "python3"
  },
  "language_info": {
   "codemirror_mode": {
    "name": "ipython",
    "version": 3
   },
   "file_extension": ".py",
   "mimetype": "text/x-python",
   "name": "python",
   "nbconvert_exporter": "python",
   "pygments_lexer": "ipython3",
   "version": "3.8.5"
  }
 },
 "nbformat": 4,
 "nbformat_minor": 4
}
